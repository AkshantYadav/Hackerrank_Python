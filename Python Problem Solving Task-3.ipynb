{
 "cells": [
  {
   "cell_type": "markdown",
   "id": "f2c1b947",
   "metadata": {},
   "source": [
    "# Python Maths"
   ]
  },
  {
   "cell_type": "markdown",
   "id": "1a1bbd5a",
   "metadata": {},
   "source": [
    "### 1. Polar Coordinates"
   ]
  },
  {
   "cell_type": "code",
   "execution_count": 2,
   "id": "51a7bec1",
   "metadata": {},
   "outputs": [
    {
     "name": "stdout",
     "output_type": "stream",
     "text": [
      "1+2j\n",
      "2.23606797749979\n",
      "1.1071487177940904\n"
     ]
    }
   ],
   "source": [
    "import cmath\n",
    "z= input()\n",
    "print(abs(complex(z)))\n",
    "print(cmath.phase(complex(z)))"
   ]
  },
  {
   "cell_type": "markdown",
   "id": "fbcad16b",
   "metadata": {},
   "source": [
    "### 2. Find Angle MBC"
   ]
  },
  {
   "cell_type": "code",
   "execution_count": 3,
   "id": "d34972a3",
   "metadata": {},
   "outputs": [
    {
     "name": "stdout",
     "output_type": "stream",
     "text": [
      "10\n",
      "10\n",
      "45°\n"
     ]
    }
   ],
   "source": [
    "from math import degrees, atan2\n",
    "\n",
    "AB = int(input())\n",
    "BC = int(input())\n",
    "\n",
    "RESULT = round(degrees(atan2(AB, BC)))\n",
    "print(str(RESULT)+ u\"\\N{DEGREE SIGN}\")"
   ]
  },
  {
   "cell_type": "markdown",
   "id": "15e83dc9",
   "metadata": {},
   "source": [
    "### 3. Traingle Quest 2"
   ]
  },
  {
   "cell_type": "code",
   "execution_count": 4,
   "id": "07d4a2fb",
   "metadata": {},
   "outputs": [
    {
     "name": "stdout",
     "output_type": "stream",
     "text": [
      "5\n",
      "1\n",
      "121\n",
      "12321\n",
      "1234321\n",
      "123454321\n"
     ]
    }
   ],
   "source": [
    "for i in range(1,int(input())+1):\n",
    "    print ((((10**i)-1)//(9))**2)"
   ]
  },
  {
   "cell_type": "markdown",
   "id": "765d0d07",
   "metadata": {},
   "source": [
    "### 4. Mod-Divmod"
   ]
  },
  {
   "cell_type": "code",
   "execution_count": 5,
   "id": "f8249b18",
   "metadata": {},
   "outputs": [
    {
     "name": "stdout",
     "output_type": "stream",
     "text": [
      "177\n",
      "10\n",
      "17\n",
      "7\n",
      "(17, 7)\n"
     ]
    }
   ],
   "source": [
    "import math\n",
    "a = int(input())\n",
    "b = int(input())\n",
    "print(a//b)\n",
    "print(a%b)\n",
    "print(divmod(a,b))"
   ]
  },
  {
   "cell_type": "markdown",
   "id": "3abe7efa",
   "metadata": {},
   "source": [
    "### 5. Power - Mod Power"
   ]
  },
  {
   "cell_type": "code",
   "execution_count": 6,
   "id": "2ecb071b",
   "metadata": {},
   "outputs": [
    {
     "name": "stdout",
     "output_type": "stream",
     "text": [
      "3\n",
      "4\n",
      "5\n",
      "81\n",
      "1\n"
     ]
    }
   ],
   "source": [
    "import math\n",
    "a = int(input())\n",
    "b = int(input())\n",
    "m = int(input())\n",
    "print(pow(a,b))\n",
    "print(pow(a,b,m))"
   ]
  },
  {
   "cell_type": "markdown",
   "id": "7355cd13",
   "metadata": {},
   "source": [
    "### 6. Integers Come in All Sizes"
   ]
  },
  {
   "cell_type": "code",
   "execution_count": 7,
   "id": "b5983254",
   "metadata": {},
   "outputs": [
    {
     "name": "stdout",
     "output_type": "stream",
     "text": [
      "9\n",
      "29\n",
      "7\n",
      "27\n",
      "4710194409608608369201743232\n"
     ]
    }
   ],
   "source": [
    "import math\n",
    "a = int(input())\n",
    "b = int(input())\n",
    "c = int(input())\n",
    "d = int(input())\n",
    "print(pow(a,b)+pow(c,d))"
   ]
  },
  {
   "cell_type": "markdown",
   "id": "29c5989b",
   "metadata": {},
   "source": [
    "### 7. Triangle Quest"
   ]
  },
  {
   "cell_type": "code",
   "execution_count": 9,
   "id": "b9dbf2e4",
   "metadata": {},
   "outputs": [
    {
     "name": "stdout",
     "output_type": "stream",
     "text": [
      "5\n",
      "1\n",
      "22\n",
      "333\n",
      "4444\n"
     ]
    }
   ],
   "source": [
    "for i in range(1,int(input())):\n",
    "    print( int((i*(pow(10, i) - 1)) / 9 ))"
   ]
  },
  {
   "cell_type": "code",
   "execution_count": null,
   "id": "858283a7",
   "metadata": {},
   "outputs": [],
   "source": []
  }
 ],
 "metadata": {
  "kernelspec": {
   "display_name": "Python 3 (ipykernel)",
   "language": "python",
   "name": "python3"
  },
  "language_info": {
   "codemirror_mode": {
    "name": "ipython",
    "version": 3
   },
   "file_extension": ".py",
   "mimetype": "text/x-python",
   "name": "python",
   "nbconvert_exporter": "python",
   "pygments_lexer": "ipython3",
   "version": "3.9.13"
  }
 },
 "nbformat": 4,
 "nbformat_minor": 5
}
