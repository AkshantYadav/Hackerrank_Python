{
 "cells": [
  {
   "cell_type": "markdown",
   "id": "c8c697df",
   "metadata": {},
   "source": [
    "# Python Data Types"
   ]
  },
  {
   "cell_type": "markdown",
   "id": "239aa1c9",
   "metadata": {},
   "source": [
    "### 1. List Comprehensions"
   ]
  },
  {
   "cell_type": "code",
   "execution_count": 2,
   "id": "b33c9343",
   "metadata": {},
   "outputs": [
    {
     "name": "stdout",
     "output_type": "stream",
     "text": [
      "1\n",
      "1\n",
      "1\n",
      "2\n",
      "[[0, 0, 0], [0, 0, 1], [0, 1, 0], [1, 0, 0], [1, 1, 1]]\n"
     ]
    }
   ],
   "source": [
    "x = int(input())\n",
    "y = int(input())\n",
    "z = int(input())\n",
    "n = int(input())\n",
    "nums = [[i, j, k] for i in range(x+1) for j in range(y +1) for k in range(z+1) if (i+j+k) != n]\n",
    "print(nums)"
   ]
  },
  {
   "cell_type": "markdown",
   "id": "fa3c9641",
   "metadata": {},
   "source": [
    "### 2. Find the Runner up Score"
   ]
  },
  {
   "cell_type": "code",
   "execution_count": 3,
   "id": "c641f4cd",
   "metadata": {},
   "outputs": [
    {
     "name": "stdout",
     "output_type": "stream",
     "text": [
      "5\n",
      "2 3 6 6 5\n",
      "5\n"
     ]
    }
   ],
   "source": [
    "n = int(input())\n",
    "arr = map(int, input().split())\n",
    "print(sorted(set(arr), reverse=True)[1])"
   ]
  },
  {
   "cell_type": "markdown",
   "id": "b21fbcbb",
   "metadata": {},
   "source": [
    "### 3. Nested Lists"
   ]
  },
  {
   "cell_type": "code",
   "execution_count": 6,
   "id": "ef88b84c",
   "metadata": {},
   "outputs": [
    {
     "name": "stdout",
     "output_type": "stream",
     "text": [
      "2\n",
      "Harry\n",
      "37.21\n",
      "Tina\n",
      "46.98\n",
      "Tina\n"
     ]
    }
   ],
   "source": [
    "students = []\n",
    "for _ in range(int(input())):\n",
    "    name = input()\n",
    "    score = float(input())\n",
    "    students.append([name, score])\n",
    "mn = min(students, key=lambda x: x[1])\n",
    "nonlowest = sorted([student for student in students if student[1] > mn[1]], key= lambda x: x[1])\n",
    "seconds = sorted([student[0] for student in nonlowest if student[1] == nonlowest[0][1]])\n",
    "for student in seconds:\n",
    "    print(student)\n"
   ]
  },
  {
   "cell_type": "markdown",
   "id": "d31f1fb3",
   "metadata": {},
   "source": [
    "### 4. Find the Percentage"
   ]
  },
  {
   "cell_type": "code",
   "execution_count": 7,
   "id": "8f45c1fa",
   "metadata": {},
   "outputs": [
    {
     "name": "stdout",
     "output_type": "stream",
     "text": [
      "3\n",
      "Krishna 67 68 69\n",
      "Arjun 70 98 63\n",
      "Malika 52 56 60\n",
      "Malika\n",
      "56.00\n"
     ]
    }
   ],
   "source": [
    "n = int(input())\n",
    "student_marks = {}\n",
    "for _ in range(n):\n",
    "    name, *line = input().split()\n",
    "    scores = list(map(float, line))\n",
    "    student_marks[name] = scores\n",
    "query_name = input()\n",
    "def find_percentage(name):\n",
    "    return f\"{sum(student_marks[name]) / len(student_marks[name]):.2f}\"\n",
    "\n",
    "print(find_percentage(query_name))"
   ]
  },
  {
   "cell_type": "markdown",
   "id": "5592685e",
   "metadata": {},
   "source": [
    "### 5. Lists"
   ]
  },
  {
   "cell_type": "code",
   "execution_count": 8,
   "id": "febc4888",
   "metadata": {},
   "outputs": [
    {
     "name": "stdout",
     "output_type": "stream",
     "text": [
      "4\n",
      "insert 0 6\n",
      "insert 1 10\n",
      "insert 4 9\n",
      "print\n",
      "[6, 10, 9]\n"
     ]
    }
   ],
   "source": [
    "N = int(input())\n",
    "the_list = list()\n",
    "\n",
    "for _ in range(N):\n",
    "    query = input().split()\n",
    "    if query[0] == \"print\":\n",
    "        print(the_list)\n",
    "    elif query[0] == \"insert\":\n",
    "        the_list.insert(int(query[1]), int(query[2]))\n",
    "    elif query[0] == \"remove\":\n",
    "        the_list.remove(int(query[1]))\n",
    "    elif query[0] == \"append\":\n",
    "        the_list.append(int(query[1]))\n",
    "    elif query[0] == \"sort\":\n",
    "        the_list = sorted(the_list)\n",
    "    elif query[0] == \"pop\":\n",
    "        the_list.pop()\n",
    "    elif query[0] == \"reverse\":\n",
    "        the_list.reverse()\n"
   ]
  },
  {
   "cell_type": "markdown",
   "id": "f464d9ec",
   "metadata": {},
   "source": [
    "### 6. Tuples"
   ]
  },
  {
   "cell_type": "code",
   "execution_count": 10,
   "id": "6d4d1896",
   "metadata": {},
   "outputs": [
    {
     "name": "stdout",
     "output_type": "stream",
     "text": [
      "2\n",
      "1 2\n",
      "-3550055125485641917\n"
     ]
    }
   ],
   "source": [
    "n = int(input())\n",
    "integer_list = map(int, input().split())\n",
    "t = tuple(integer_list)\n",
    "print(hash(t))"
   ]
  },
  {
   "cell_type": "markdown",
   "id": "6a96ae13",
   "metadata": {},
   "source": [
    "### 7. Introduction to Sets"
   ]
  },
  {
   "cell_type": "code",
   "execution_count": 1,
   "id": "2a0b5e9d",
   "metadata": {},
   "outputs": [],
   "source": [
    "def average(array):\n",
    "    return sum(set(array))/len(set(array))"
   ]
  },
  {
   "cell_type": "markdown",
   "id": "b0f16520",
   "metadata": {},
   "source": [
    "### 8. No idea!"
   ]
  },
  {
   "cell_type": "code",
   "execution_count": 12,
   "id": "71791bbf",
   "metadata": {},
   "outputs": [
    {
     "name": "stdout",
     "output_type": "stream",
     "text": [
      "3 2\n",
      "1 5 3\n",
      "3 1\n",
      "5 7\n",
      "1\n"
     ]
    }
   ],
   "source": [
    "n, m = input().split()\n",
    "\n",
    "sc_ar = input().split()\n",
    "\n",
    "A = set(input().split())\n",
    "B = set(input().split())\n",
    "print(sum([(i in A) - (i in B) for i in sc_ar]))"
   ]
  },
  {
   "cell_type": "markdown",
   "id": "329a18c0",
   "metadata": {},
   "source": [
    "### 9. Symmetric Difference"
   ]
  },
  {
   "cell_type": "code",
   "execution_count": 13,
   "id": "3b33808a",
   "metadata": {},
   "outputs": [
    {
     "name": "stdout",
     "output_type": "stream",
     "text": [
      "4\n",
      "2 4 5 9\n",
      "4\n",
      "2 4 11 12\n",
      "5\n",
      "9\n",
      "11\n",
      "12\n"
     ]
    }
   ],
   "source": [
    "m = int(input())\n",
    "a = set(map(int, input().split()))\n",
    "n = int(input())\n",
    "b = set(map(int, input().split()))\n",
    "\n",
    "\n",
    "c = a.difference(b)\n",
    "d = b.difference(a)\n",
    "e = c.union(d)\n",
    "\n",
    "RESULT = list(e)\n",
    "RESULT.sort()\n",
    "for i in range(len(RESULT)):\n",
    "    print(RESULT[i])"
   ]
  },
  {
   "cell_type": "markdown",
   "id": "755ef1d0",
   "metadata": {},
   "source": [
    "### 10. Set.add()"
   ]
  },
  {
   "cell_type": "code",
   "execution_count": 15,
   "id": "62738e0f",
   "metadata": {},
   "outputs": [
    {
     "name": "stdout",
     "output_type": "stream",
     "text": [
      "7\n",
      "UK\n",
      "China\n",
      "Japan\n",
      "China\n",
      "UK\n",
      "India\n",
      "Singapore\n",
      "5\n"
     ]
    }
   ],
   "source": [
    "N = int(input())\n",
    "country_set = set()\n",
    "\n",
    "for i in range((N)):\n",
    "    country_set.add(input())\n",
    "    \n",
    "print(len(country_set))"
   ]
  },
  {
   "cell_type": "markdown",
   "id": "bdde070b",
   "metadata": {},
   "source": [
    "### 11. Set .discard(), .remove() & .pop()"
   ]
  },
  {
   "cell_type": "code",
   "execution_count": 16,
   "id": "d17b8476",
   "metadata": {},
   "outputs": [
    {
     "name": "stdout",
     "output_type": "stream",
     "text": [
      "9\n",
      "1 2 3 4 5 6 7 8 9\n",
      "10\n",
      "pop\n",
      "remove 9\n",
      "discard 9\n",
      "discard 8\n",
      "remove 7\n",
      "pop\n",
      "discard 6\n",
      "remove 5\n",
      "pop\n",
      "discard 5 \n",
      "4\n"
     ]
    }
   ],
   "source": [
    "n = int(input())\n",
    "s = set(map(int, input().split())) \n",
    "\n",
    "for i in range(int(input())):\n",
    "    s1 = input().split()\n",
    "    if s1[0] == 'pop':\n",
    "        s.pop()\n",
    "    elif s1[0] == 'remove':\n",
    "        s.remove(int(s1[1]))\n",
    "    elif s1[0] == 'discard':\n",
    "        s.discard(int(s1[1]))\n",
    "\n",
    "print(sum(s))"
   ]
  },
  {
   "cell_type": "markdown",
   "id": "bebd86c5",
   "metadata": {},
   "source": [
    "### 12. Set.union() Operation"
   ]
  },
  {
   "cell_type": "code",
   "execution_count": 17,
   "id": "4ae9736b",
   "metadata": {},
   "outputs": [
    {
     "name": "stdout",
     "output_type": "stream",
     "text": [
      "9 \n",
      "1 2 3 4 5 6 7 8 9\n",
      "9\n",
      "9 21 34 6 45 23 2 17 14 10\n",
      "16\n"
     ]
    }
   ],
   "source": [
    "n = int(input())\n",
    "l = list(input().split())\n",
    "m = int(input())\n",
    "k = list(input().split())\n",
    "\n",
    "s1 = set(l)\n",
    "s2 = set(k)\n",
    "print(len(s1.union(s2)))"
   ]
  },
  {
   "cell_type": "markdown",
   "id": "b83b6167",
   "metadata": {},
   "source": [
    "### 13. Set.intersection() Operation"
   ]
  },
  {
   "cell_type": "code",
   "execution_count": 19,
   "id": "b2383f4a",
   "metadata": {},
   "outputs": [
    {
     "name": "stdout",
     "output_type": "stream",
     "text": [
      "9\n",
      "1 2 3 4 5 6 7 8 9\n",
      "9\n",
      "9 21 34 6 45 23 2 17 14 10\n",
      "3\n"
     ]
    }
   ],
   "source": [
    "n1 = int(input())\n",
    "s1=set(map(int , input().split()))\n",
    "n2 = int(input())\n",
    "s2=set(map(int , input().split()))\n",
    "Intersection_set = set(s1.intersection(s2))\n",
    "output=0\n",
    "for i in Intersection_set:\n",
    "  output+=1\n",
    "print(output)"
   ]
  },
  {
   "cell_type": "markdown",
   "id": "0949bf3b",
   "metadata": {},
   "source": [
    "### 14. Set.difference() Operation"
   ]
  },
  {
   "cell_type": "code",
   "execution_count": 2,
   "id": "c79e273c",
   "metadata": {},
   "outputs": [
    {
     "name": "stdout",
     "output_type": "stream",
     "text": [
      "9\n",
      "1 2 3 4 5 6 7 8 9\n",
      "9\n",
      "9 21 34 6 45 23 2 17 14 10\n",
      "6\n"
     ]
    }
   ],
   "source": [
    "n = int(input())\n",
    "s = set(map(int, input().split())) \n",
    "\n",
    "m = int(input())\n",
    "t = set(map(int, input().split()))\n",
    "\n",
    "print(len(s.difference(t)))"
   ]
  },
  {
   "cell_type": "markdown",
   "id": "fa487759",
   "metadata": {},
   "source": [
    "### 15. Set.symmetric_difference() Operation"
   ]
  },
  {
   "cell_type": "code",
   "execution_count": 3,
   "id": "6eeb48e3",
   "metadata": {},
   "outputs": [
    {
     "name": "stdout",
     "output_type": "stream",
     "text": [
      "9\n",
      "1 2 3 4 5 6 7 8 9\n",
      "9\n",
      "10 1 2 3 11 21 55 6 8\n",
      "8\n"
     ]
    }
   ],
   "source": [
    "m = input()\n",
    "a = set(input().split())\n",
    "n = input()\n",
    "b = set(input().split())\n",
    "print(len(a.symmetric_difference(b)))"
   ]
  },
  {
   "cell_type": "markdown",
   "id": "b9775d5c",
   "metadata": {},
   "source": [
    "### 16. Set Mutations"
   ]
  },
  {
   "cell_type": "code",
   "execution_count": 5,
   "id": "72d64bd2",
   "metadata": {},
   "outputs": [
    {
     "name": "stdout",
     "output_type": "stream",
     "text": [
      "16\n",
      " 1 2 3 4 5 6 7 8 9 10 11 12 13 14 24 52\n",
      "4\n",
      "intersection_update 10\n",
      "2 3 5 6 8 9 1 4 7 11\n",
      "update 2\n",
      "55 66\n",
      "symmetric_difference_update 5\n",
      "22 7 35 62 58\n",
      "difference_update 7\n",
      "11 22 35 55 58 62 66\n",
      "38\n"
     ]
    }
   ],
   "source": [
    "length=int(input())\n",
    "s=set(map(int, input().split()))\n",
    "N=int(input())\n",
    "\n",
    "for i in range(N):\n",
    "    (p, q)=input().split()\n",
    "    s2=set(map(int, input().split()))\n",
    "    if p=='intersection_update':\n",
    "        s.intersection_update(s2)\n",
    "    elif p=='update':\n",
    "        s.update(s2)\n",
    "    elif p=='symmetric_difference_update':\n",
    "        s.symmetric_difference_update(s2)\n",
    "    elif p=='difference_update':\n",
    "        s.difference_update(s2)\n",
    "print(sum(s))"
   ]
  },
  {
   "cell_type": "markdown",
   "id": "75cec71e",
   "metadata": {},
   "source": [
    "### 17. The Captain's Room"
   ]
  },
  {
   "cell_type": "code",
   "execution_count": 8,
   "id": "0c2eb8cb",
   "metadata": {},
   "outputs": [
    {
     "name": "stdout",
     "output_type": "stream",
     "text": [
      "5\n",
      "1 2 3 6 5 4 4 2 5 3 6 1 6 5 3 2 4 1 2 5 1 4 3 6 8 4 3 1 5 6 2 \n",
      "8\n"
     ]
    }
   ],
   "source": [
    "N = input()\n",
    "lst = input().split()\n",
    "s = set(lst)\n",
    "\n",
    "for ele in list(s):\n",
    "    lst.remove(ele)\n",
    "\n",
    "captain_room = s.difference(set(lst)).pop()\n",
    "print(CAPTAIN_ROOM_NUM)"
   ]
  },
  {
   "cell_type": "markdown",
   "id": "757712a7",
   "metadata": {},
   "source": [
    "### 18. Check Subset"
   ]
  },
  {
   "cell_type": "code",
   "execution_count": 9,
   "id": "03eb7fc3",
   "metadata": {},
   "outputs": [
    {
     "name": "stdout",
     "output_type": "stream",
     "text": [
      "3\n",
      "5\n",
      "1 2 3 5 6\n",
      "9\n",
      "9 8 5 6 3 2 1 4 7\n",
      "True\n",
      "1\n",
      "2\n",
      "5\n",
      "3 6 5 4 1\n",
      "False\n",
      "7\n",
      "1 2 3 5 6 8 9\n",
      "3\n",
      "9 8 2\n",
      "False\n"
     ]
    }
   ],
   "source": [
    "for i in range(int(input())):\n",
    "    a = int(input())\n",
    "    set_a = set(map(int, input().split()))\n",
    "\n",
    "    b = int(input())\n",
    "    set_b = set(map(int, input().split()))\n",
    "\n",
    "    if len(set_a - set_b) == 0:\n",
    "        print(\"True\")\n",
    "    else:\n",
    "        print(\"False\")"
   ]
  },
  {
   "cell_type": "markdown",
   "id": "0b9f1c2f",
   "metadata": {},
   "source": [
    "### 19. Check Strict Superset"
   ]
  },
  {
   "cell_type": "code",
   "execution_count": 10,
   "id": "df473d12",
   "metadata": {},
   "outputs": [
    {
     "name": "stdout",
     "output_type": "stream",
     "text": [
      "1 2 3 4 5 6 7 8 9 10 11 12 23 45 84 78\n",
      "2\n",
      "1 2 3 4 5\n",
      "100 11 12\n",
      "False\n"
     ]
    }
   ],
   "source": [
    "A = set(map(int, input().split()))\n",
    "for i in range(int(input())):\n",
    "    X = set(map(int, input().split()))\n",
    "    if A.issuperset(X) != True or len(A) == len(X): \n",
    "        print(False)\n",
    "        break \n",
    "else: \n",
    "    print(True)"
   ]
  },
  {
   "cell_type": "code",
   "execution_count": null,
   "id": "2e3fd80a",
   "metadata": {},
   "outputs": [],
   "source": []
  }
 ],
 "metadata": {
  "kernelspec": {
   "display_name": "Python 3 (ipykernel)",
   "language": "python",
   "name": "python3"
  },
  "language_info": {
   "codemirror_mode": {
    "name": "ipython",
    "version": 3
   },
   "file_extension": ".py",
   "mimetype": "text/x-python",
   "name": "python",
   "nbconvert_exporter": "python",
   "pygments_lexer": "ipython3",
   "version": "3.9.13"
  }
 },
 "nbformat": 4,
 "nbformat_minor": 5
}
