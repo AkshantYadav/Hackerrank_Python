{
 "cells": [
  {
   "cell_type": "markdown",
   "id": "f8d1c753",
   "metadata": {},
   "source": [
    "# Basics Python Programming"
   ]
  },
  {
   "cell_type": "markdown",
   "id": "25f98b7b",
   "metadata": {},
   "source": [
    "### 1. Say \"Hello, World !\" with Python"
   ]
  },
  {
   "cell_type": "code",
   "execution_count": 2,
   "id": "60c50423",
   "metadata": {},
   "outputs": [
    {
     "name": "stdout",
     "output_type": "stream",
     "text": [
      "Hello, World!\n"
     ]
    }
   ],
   "source": [
    "print(\"Hello, World!\")"
   ]
  },
  {
   "cell_type": "markdown",
   "id": "6636d113",
   "metadata": {},
   "source": [
    "### 2. Python If-Else"
   ]
  },
  {
   "cell_type": "code",
   "execution_count": 10,
   "id": "ddbd6922",
   "metadata": {},
   "outputs": [
    {
     "name": "stdout",
     "output_type": "stream",
     "text": [
      "6\n",
      "Weird\n"
     ]
    }
   ],
   "source": [
    "num = int(input())\n",
    "if num%2 != 0:\n",
    "    print(\"Weird\")\n",
    "elif num%2 == 0 and num>=2 and num<=5:\n",
    "    print(\"Not Weird\")\n",
    "elif num%2 == 0 and num>=6 and num<=20:\n",
    "    print(\"Weird\")\n",
    "elif num%2 == 0 and num>20:\n",
    "    print(\"Not Weird\")"
   ]
  },
  {
   "cell_type": "markdown",
   "id": "fd6b41f8",
   "metadata": {},
   "source": [
    "### 3. Arithmetic Operators"
   ]
  },
  {
   "cell_type": "code",
   "execution_count": 11,
   "id": "a0353541",
   "metadata": {},
   "outputs": [
    {
     "name": "stdout",
     "output_type": "stream",
     "text": [
      "3\n",
      "5\n",
      "8\n",
      "-2\n",
      "15\n"
     ]
    }
   ],
   "source": [
    "num_1 = int(input())\n",
    "num_2 = int(input())\n",
    "print(num_1+num_2)\n",
    "print(num_1-num_2)\n",
    "print(num_1*num_2)"
   ]
  },
  {
   "cell_type": "markdown",
   "id": "1f55a310",
   "metadata": {},
   "source": [
    "### 4. Python: Division"
   ]
  },
  {
   "cell_type": "code",
   "execution_count": 13,
   "id": "d21151eb",
   "metadata": {},
   "outputs": [
    {
     "name": "stdout",
     "output_type": "stream",
     "text": [
      "3\n",
      "5\n",
      "0\n",
      "0.6\n"
     ]
    }
   ],
   "source": [
    "num_1 = int(input())\n",
    "num_2 = int(input())\n",
    "print(num_1//num_2)\n",
    "print(num_1/num_2)"
   ]
  },
  {
   "cell_type": "markdown",
   "id": "df0a5cd9",
   "metadata": {},
   "source": [
    "### 5. Loops"
   ]
  },
  {
   "cell_type": "code",
   "execution_count": 19,
   "id": "dc0a9869",
   "metadata": {},
   "outputs": [
    {
     "name": "stdout",
     "output_type": "stream",
     "text": [
      "Enter a positive integer: 3\n",
      "0\n",
      "1\n",
      "4\n"
     ]
    }
   ],
   "source": [
    "num = int(input(\"Enter a positive integer: \"))\n",
    "for i in range(num):\n",
    "    print(i**2)"
   ]
  },
  {
   "cell_type": "markdown",
   "id": "d39986cf",
   "metadata": {},
   "source": [
    "### 6. Write a function"
   ]
  },
  {
   "cell_type": "code",
   "execution_count": 25,
   "id": "fba4a2c4",
   "metadata": {},
   "outputs": [
    {
     "name": "stdout",
     "output_type": "stream",
     "text": [
      "2000\n",
      "True\n"
     ]
    }
   ],
   "source": [
    "def is_leap(year):\n",
    "    if year%100==0:\n",
    "        if year%400==0:\n",
    "            return True\n",
    "        else:\n",
    "            return False\n",
    "    if year%4==0:\n",
    "        return True\n",
    "    else:\n",
    "        return False\n",
    "    \n",
    "year = int(input())\n",
    "print(is_leap(year))"
   ]
  },
  {
   "cell_type": "markdown",
   "id": "83ce9f70",
   "metadata": {},
   "source": [
    "### 7. Print Function"
   ]
  },
  {
   "cell_type": "code",
   "execution_count": 28,
   "id": "8ec09530",
   "metadata": {},
   "outputs": [
    {
     "name": "stdout",
     "output_type": "stream",
     "text": [
      "5\n",
      "12345"
     ]
    }
   ],
   "source": [
    "n = int(input())\n",
    "for i in range(1,n+1):\n",
    "    print(i,end='')"
   ]
  },
  {
   "cell_type": "markdown",
   "id": "f1a81a7e",
   "metadata": {},
   "source": [
    "# Advanced Python Programming"
   ]
  },
  {
   "cell_type": "markdown",
   "id": "ed6fe7d3",
   "metadata": {},
   "source": [
    "### 1. Running sum of 1d array"
   ]
  },
  {
   "cell_type": "code",
   "execution_count": 32,
   "id": "b7fb2dd5",
   "metadata": {},
   "outputs": [
    {
     "name": "stdout",
     "output_type": "stream",
     "text": [
      "[1, 2, 3, 4]\n"
     ]
    }
   ],
   "source": [
    "nums = [1,1,1,1]\n",
    "for i in range(len(nums)-1):\n",
    "    nums[i+1] += nums[i]\n",
    "print(nums)"
   ]
  },
  {
   "cell_type": "code",
   "execution_count": null,
   "id": "ed7f3436",
   "metadata": {},
   "outputs": [],
   "source": []
  }
 ],
 "metadata": {
  "kernelspec": {
   "display_name": "Python 3 (ipykernel)",
   "language": "python",
   "name": "python3"
  },
  "language_info": {
   "codemirror_mode": {
    "name": "ipython",
    "version": 3
   },
   "file_extension": ".py",
   "mimetype": "text/x-python",
   "name": "python",
   "nbconvert_exporter": "python",
   "pygments_lexer": "ipython3",
   "version": "3.9.13"
  }
 },
 "nbformat": 4,
 "nbformat_minor": 5
}
